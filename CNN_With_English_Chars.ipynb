{
 "cells": [
  {
   "cell_type": "code",
   "execution_count": 1,
   "id": "50afae7d-74cd-4c93-b553-d8537cd8c624",
   "metadata": {},
   "outputs": [],
   "source": [
    "import warnings\n",
    "warnings.filterwarnings(\"ignore\")\n",
    "import pandas as pd\n",
    "import numpy as np\n",
    "import glob\n",
    "import cv2\n",
    "import tensorflow as tf\n",
    "from sklearn.metrics import accuracy_score, precision_score, recall_score, f1_score, confusion_matrix\n",
    "from tensorflow.keras.models import Sequential\n",
    "from sklearn.model_selection import train_test_split\n",
    "from sklearn.preprocessing import LabelEncoder\n",
    "from tensorflow.keras.layers import *"
   ]
  },
  {
   "cell_type": "code",
   "execution_count": 2,
   "id": "fe373dd4-1943-4e4c-ab38-3d7ba8cbaade",
   "metadata": {},
   "outputs": [],
   "source": [
    "imgs=glob.glob('Img/*')"
   ]
  },
  {
   "cell_type": "code",
   "execution_count": 3,
   "id": "70c71063-6e61-4af2-a3f3-dc1cdcdde438",
   "metadata": {},
   "outputs": [
    {
     "data": {
      "text/html": [
       "<div>\n",
       "<style scoped>\n",
       "    .dataframe tbody tr th:only-of-type {\n",
       "        vertical-align: middle;\n",
       "    }\n",
       "\n",
       "    .dataframe tbody tr th {\n",
       "        vertical-align: top;\n",
       "    }\n",
       "\n",
       "    .dataframe thead th {\n",
       "        text-align: right;\n",
       "    }\n",
       "</style>\n",
       "<table border=\"1\" class=\"dataframe\">\n",
       "  <thead>\n",
       "    <tr style=\"text-align: right;\">\n",
       "      <th></th>\n",
       "      <th>image</th>\n",
       "      <th>label</th>\n",
       "    </tr>\n",
       "  </thead>\n",
       "  <tbody>\n",
       "    <tr>\n",
       "      <th>0</th>\n",
       "      <td>Img/img001-001.png</td>\n",
       "      <td>0</td>\n",
       "    </tr>\n",
       "    <tr>\n",
       "      <th>1</th>\n",
       "      <td>Img/img001-002.png</td>\n",
       "      <td>0</td>\n",
       "    </tr>\n",
       "    <tr>\n",
       "      <th>2</th>\n",
       "      <td>Img/img001-003.png</td>\n",
       "      <td>0</td>\n",
       "    </tr>\n",
       "    <tr>\n",
       "      <th>3</th>\n",
       "      <td>Img/img001-004.png</td>\n",
       "      <td>0</td>\n",
       "    </tr>\n",
       "    <tr>\n",
       "      <th>4</th>\n",
       "      <td>Img/img001-005.png</td>\n",
       "      <td>0</td>\n",
       "    </tr>\n",
       "  </tbody>\n",
       "</table>\n",
       "</div>"
      ],
      "text/plain": [
       "                image  label\n",
       "0  Img/img001-001.png      0\n",
       "1  Img/img001-002.png      0\n",
       "2  Img/img001-003.png      0\n",
       "3  Img/img001-004.png      0\n",
       "4  Img/img001-005.png      0"
      ]
     },
     "execution_count": 3,
     "metadata": {},
     "output_type": "execute_result"
    }
   ],
   "source": [
    "df = pd.read_csv(\"./english.csv\")\n",
    "df.head(5)"
   ]
  },
  {
   "cell_type": "code",
   "execution_count": 4,
   "id": "4748cba1-7e80-4e58-a90e-ccedd7ffe8b4",
   "metadata": {},
   "outputs": [
    {
     "data": {
      "text/plain": [
       "['Img\\\\img001-001.png', 'Img\\\\img001-002.png', 'Img\\\\img001-003.png']"
      ]
     },
     "execution_count": 4,
     "metadata": {},
     "output_type": "execute_result"
    }
   ],
   "source": [
    "imgs[:3]"
   ]
  },
  {
   "cell_type": "code",
   "execution_count": 5,
   "id": "c9658ef9-2ebe-4eda-a832-e188c89fee1d",
   "metadata": {},
   "outputs": [],
   "source": [
    "# Sorting image paths\n",
    "new_imgs = sorted(imgs)\n",
    "\n",
    "# Listing labels\n",
    "labels = df['label'].tolist()\n",
    "\n",
    "# Reading images and preprocessing\n",
    "new_data = []\n",
    "for i in new_imgs:\n",
    "    # Read image\n",
    "    img = cv2.imread(i, 1)\n",
    "    # Resize image\n",
    "    img = cv2.resize(img, (64, 64))\n",
    "    # Append to new_data list\n",
    "    new_data.append(img)\n",
    "# Convert new_data to numpy array\n",
    "new_data = np.array(new_data)\n",
    "\n",
    "# Convert labels to numpy array\n",
    "labels = np.array(labels)\n",
    "\n",
    "# Encode labels\n",
    "Encoder = LabelEncoder()\n",
    "labels = Encoder.fit_transform(labels)\n",
    "\n",
    "# Split data into training and testing sets\n",
    "train_images, test_images, train_labels, test_labels = train_test_split(new_data, labels, test_size=0.2, random_state=42)\n",
    "\n",
    "# Normalize pixel values to the range [0, 1]\n",
    "train_images = train_images / 255.0\n",
    "test_images = test_images / 255.0"
   ]
  },
  {
   "cell_type": "code",
   "execution_count": 24,
   "id": "22c5a922-c903-4c30-a0cc-bf16cd0c3922",
   "metadata": {},
   "outputs": [
    {
     "name": "stdout",
     "output_type": "stream",
     "text": [
      "Epoch 1/20\n",
      "\u001b[1m11/11\u001b[0m \u001b[32m━━━━━━━━━━━━━━━━━━━━\u001b[0m\u001b[37m\u001b[0m \u001b[1m46s\u001b[0m 4s/step - accuracy: 0.0741 - loss: 2.4983 - val_accuracy: 0.1477 - val_loss: 2.3227\n",
      "Epoch 2/20\n",
      "\u001b[1m11/11\u001b[0m \u001b[32m━━━━━━━━━━━━━━━━━━━━\u001b[0m\u001b[37m\u001b[0m \u001b[1m44s\u001b[0m 4s/step - accuracy: 0.0957 - loss: 2.3082 - val_accuracy: 0.1136 - val_loss: 2.3392\n",
      "Epoch 3/20\n",
      "\u001b[1m11/11\u001b[0m \u001b[32m━━━━━━━━━━━━━━━━━━━━\u001b[0m\u001b[37m\u001b[0m \u001b[1m44s\u001b[0m 4s/step - accuracy: 0.0907 - loss: 2.3178 - val_accuracy: 0.1364 - val_loss: 2.3145\n",
      "Epoch 4/20\n",
      "\u001b[1m11/11\u001b[0m \u001b[32m━━━━━━━━━━━━━━━━━━━━\u001b[0m\u001b[37m\u001b[0m \u001b[1m45s\u001b[0m 4s/step - accuracy: 0.1089 - loss: 2.2415 - val_accuracy: 0.2955 - val_loss: 2.0525\n",
      "Epoch 5/20\n",
      "\u001b[1m11/11\u001b[0m \u001b[32m━━━━━━━━━━━━━━━━━━━━\u001b[0m\u001b[37m\u001b[0m \u001b[1m78s\u001b[0m 4s/step - accuracy: 0.2958 - loss: 1.9348 - val_accuracy: 0.4659 - val_loss: 1.4393\n",
      "Epoch 6/20\n",
      "\u001b[1m11/11\u001b[0m \u001b[32m━━━━━━━━━━━━━━━━━━━━\u001b[0m\u001b[37m\u001b[0m \u001b[1m42s\u001b[0m 4s/step - accuracy: 0.4615 - loss: 1.4217 - val_accuracy: 0.4886 - val_loss: 1.3416\n",
      "Epoch 7/20\n",
      "\u001b[1m11/11\u001b[0m \u001b[32m━━━━━━━━━━━━━━━━━━━━\u001b[0m\u001b[37m\u001b[0m \u001b[1m41s\u001b[0m 4s/step - accuracy: 0.6120 - loss: 1.1657 - val_accuracy: 0.4773 - val_loss: 1.4369\n",
      "Epoch 8/20\n",
      "\u001b[1m11/11\u001b[0m \u001b[32m━━━━━━━━━━━━━━━━━━━━\u001b[0m\u001b[37m\u001b[0m \u001b[1m43s\u001b[0m 4s/step - accuracy: 0.6755 - loss: 0.8790 - val_accuracy: 0.7273 - val_loss: 0.8524\n",
      "Epoch 9/20\n",
      "\u001b[1m11/11\u001b[0m \u001b[32m━━━━━━━━━━━━━━━━━━━━\u001b[0m\u001b[37m\u001b[0m \u001b[1m42s\u001b[0m 4s/step - accuracy: 0.7602 - loss: 0.6893 - val_accuracy: 0.7614 - val_loss: 0.7125\n",
      "Epoch 10/20\n",
      "\u001b[1m11/11\u001b[0m \u001b[32m━━━━━━━━━━━━━━━━━━━━\u001b[0m\u001b[37m\u001b[0m \u001b[1m42s\u001b[0m 4s/step - accuracy: 0.8339 - loss: 0.4558 - val_accuracy: 0.7841 - val_loss: 0.7461\n",
      "Epoch 11/20\n",
      "\u001b[1m11/11\u001b[0m \u001b[32m━━━━━━━━━━━━━━━━━━━━\u001b[0m\u001b[37m\u001b[0m \u001b[1m42s\u001b[0m 4s/step - accuracy: 0.9574 - loss: 0.1791 - val_accuracy: 0.8068 - val_loss: 0.6499\n",
      "Epoch 12/20\n",
      "\u001b[1m11/11\u001b[0m \u001b[32m━━━━━━━━━━━━━━━━━━━━\u001b[0m\u001b[37m\u001b[0m \u001b[1m42s\u001b[0m 4s/step - accuracy: 0.9546 - loss: 0.1582 - val_accuracy: 0.7386 - val_loss: 1.0055\n",
      "Epoch 13/20\n",
      "\u001b[1m11/11\u001b[0m \u001b[32m━━━━━━━━━━━━━━━━━━━━\u001b[0m\u001b[37m\u001b[0m \u001b[1m42s\u001b[0m 4s/step - accuracy: 0.8922 - loss: 0.3990 - val_accuracy: 0.8182 - val_loss: 0.8388\n",
      "Epoch 14/20\n",
      "\u001b[1m11/11\u001b[0m \u001b[32m━━━━━━━━━━━━━━━━━━━━\u001b[0m\u001b[37m\u001b[0m \u001b[1m42s\u001b[0m 4s/step - accuracy: 0.9434 - loss: 0.1753 - val_accuracy: 0.8636 - val_loss: 0.5105\n",
      "Epoch 15/20\n",
      "\u001b[1m11/11\u001b[0m \u001b[32m━━━━━━━━━━━━━━━━━━━━\u001b[0m\u001b[37m\u001b[0m \u001b[1m44s\u001b[0m 4s/step - accuracy: 0.9650 - loss: 0.1162 - val_accuracy: 0.7727 - val_loss: 0.8381\n",
      "Epoch 16/20\n",
      "\u001b[1m11/11\u001b[0m \u001b[32m━━━━━━━━━━━━━━━━━━━━\u001b[0m\u001b[37m\u001b[0m \u001b[1m42s\u001b[0m 4s/step - accuracy: 1.0000 - loss: 0.0222 - val_accuracy: 0.8636 - val_loss: 0.4664\n",
      "Epoch 17/20\n",
      "\u001b[1m11/11\u001b[0m \u001b[32m━━━━━━━━━━━━━━━━━━━━\u001b[0m\u001b[37m\u001b[0m \u001b[1m42s\u001b[0m 4s/step - accuracy: 1.0000 - loss: 0.0117 - val_accuracy: 0.8864 - val_loss: 0.5497\n",
      "Epoch 18/20\n",
      "\u001b[1m11/11\u001b[0m \u001b[32m━━━━━━━━━━━━━━━━━━━━\u001b[0m\u001b[37m\u001b[0m \u001b[1m42s\u001b[0m 4s/step - accuracy: 1.0000 - loss: 0.0069 - val_accuracy: 0.8977 - val_loss: 0.5647\n",
      "Epoch 19/20\n",
      "\u001b[1m11/11\u001b[0m \u001b[32m━━━━━━━━━━━━━━━━━━━━\u001b[0m\u001b[37m\u001b[0m \u001b[1m42s\u001b[0m 4s/step - accuracy: 1.0000 - loss: 0.0030 - val_accuracy: 0.8977 - val_loss: 0.6434\n",
      "Epoch 20/20\n",
      "\u001b[1m11/11\u001b[0m \u001b[32m━━━━━━━━━━━━━━━━━━━━\u001b[0m\u001b[37m\u001b[0m \u001b[1m42s\u001b[0m 4s/step - accuracy: 1.0000 - loss: 0.0018 - val_accuracy: 0.8977 - val_loss: 0.6424\n"
     ]
    },
    {
     "data": {
      "text/plain": [
       "<keras.src.callbacks.history.History at 0x27873126270>"
      ]
     },
     "execution_count": 24,
     "metadata": {},
     "output_type": "execute_result"
    }
   ],
   "source": [
    "model = Sequential()\n",
    "model.add(Conv2D(1024,(5,5),activation='relu',input_shape=(64,64,3)))\n",
    "model.add(MaxPool2D(2,2))\n",
    "model.add(Conv2D(512,(3,3),activation='relu',input_shape=(64,64,3)))\n",
    "model.add(MaxPool2D(2,2))\n",
    "model.add(Conv2D(512,(3,3),activation='relu'))\n",
    "model.add(MaxPool2D(2,2))\n",
    "model.add(Flatten())\n",
    "model.add(Dense(1024,activation='relu'))\n",
    "model.add(Dense(2048,activation='relu'))\n",
    "model.add(Dense(1024,activation='relu'))\n",
    "model.add(Dense(512,activation='sigmoid'))\n",
    "model.add(Dense(10,activation='softmax'))\n",
    "model.compile(loss='sparse_categorical_crossentropy',optimizer='adam',metrics=['accuracy'])\n",
    "model.fit(train_images,train_labels,epochs=20,validation_split = 0.2)"
   ]
  },
  {
   "cell_type": "code",
   "execution_count": 25,
   "id": "305e8f23-f54e-481f-a38f-56378b612b64",
   "metadata": {},
   "outputs": [
    {
     "name": "stdout",
     "output_type": "stream",
     "text": [
      "\u001b[1m4/4\u001b[0m \u001b[32m━━━━━━━━━━━━━━━━━━━━\u001b[0m\u001b[37m\u001b[0m \u001b[1m4s\u001b[0m 891ms/step - accuracy: 0.8923 - loss: 0.4465\n"
     ]
    },
    {
     "data": {
      "text/plain": [
       "[0.5414460897445679, 0.8818181753158569]"
      ]
     },
     "execution_count": 25,
     "metadata": {},
     "output_type": "execute_result"
    }
   ],
   "source": [
    "model.evaluate(test_images,test_labels)"
   ]
  },
  {
   "cell_type": "code",
   "execution_count": 26,
   "id": "6da21a0c-c94f-4854-9987-835b1ea40697",
   "metadata": {},
   "outputs": [
    {
     "name": "stdout",
     "output_type": "stream",
     "text": [
      "\u001b[1m4/4\u001b[0m \u001b[32m━━━━━━━━━━━━━━━━━━━━\u001b[0m\u001b[37m\u001b[0m \u001b[1m4s\u001b[0m 921ms/step\n",
      "Accuracy: 0.8818181818181818\n",
      "Precision: 0.8945609945609945\n",
      "Recall: 0.8818181818181818\n",
      "F1 Score: 0.8809244322928533\n",
      "Confusion Matrix:\n",
      "[[ 7  0  0  1  0  0  2  0  0  0]\n",
      " [ 0 21  0  0  0  0  0  0  0  0]\n",
      " [ 1  0 10  0  0  0  0  0  0  0]\n",
      " [ 0  0  0 11  0  0  0  0  0  1]\n",
      " [ 0  0  0  0  4  0  1  0  0  0]\n",
      " [ 0  0  0  0  0  8  2  0  0  0]\n",
      " [ 0  0  0  0  0  0 10  0  0  0]\n",
      " [ 0  0  0  0  0  0  0  7  0  0]\n",
      " [ 0  0  0  0  0  0  0  0  7  0]\n",
      " [ 0  0  0  1  1  1  0  1  1 12]]\n"
     ]
    }
   ],
   "source": [
    "y_pred = model.predict(test_images)\n",
    "y_pred_labels = np.argmax(y_pred, axis=1)\n",
    "\n",
    "# Calculate evaluation metrics\n",
    "accuracy = accuracy_score(test_labels, y_pred_labels)\n",
    "precision = precision_score(test_labels, y_pred_labels, average='weighted')\n",
    "recall = recall_score(test_labels, y_pred_labels, average='weighted')\n",
    "f1 = f1_score(test_labels, y_pred_labels, average='weighted')\n",
    "confusion_mat = confusion_matrix(test_labels, y_pred_labels)\n",
    "\n",
    "# Print or use the evaluation metrics as needed\n",
    "print(\"Accuracy:\", accuracy)\n",
    "print(\"Precision:\", precision)\n",
    "print(\"Recall:\", recall)\n",
    "print(\"F1 Score:\", f1)\n",
    "print(\"Confusion Matrix:\")\n",
    "print(confusion_mat)"
   ]
  },
  {
   "cell_type": "code",
   "execution_count": 27,
   "id": "eb89613e-0a45-4702-8469-97104f0d7f1c",
   "metadata": {},
   "outputs": [
    {
     "name": "stdout",
     "output_type": "stream",
     "text": [
      "Precision: 0.8945609945609945\n",
      "Recall: 0.8818181818181818\n"
     ]
    }
   ],
   "source": [
    "# Calculate precision and recall\n",
    "precision = precision_score(test_labels, y_pred_labels, average='weighted')\n",
    "recall = recall_score(test_labels, y_pred_labels, average='weighted')\n",
    "\n",
    "# Print precision and recall\n",
    "print(\"Precision:\", precision)\n",
    "print(\"Recall:\", recall)"
   ]
  },
  {
   "cell_type": "code",
   "execution_count": 28,
   "id": "509de62c-83e9-466a-a121-421dbbab84c3",
   "metadata": {},
   "outputs": [
    {
     "data": {
      "image/png": "[encoded data removed]",
      "text/plain": [
       "<Figure size 1000x800 with 1 Axes>"
      ]
     },
     "metadata": {},
     "output_type": "display_data"
    }
   ],
   "source": [
    "import matplotlib.pyplot as plt\n",
    "import seaborn as sns\n",
    "from sklearn.metrics import confusion_matrix\n",
    "\n",
    "# Confusion Matrix\n",
    "conf_matrix = confusion_matrix(test_labels, y_pred_labels)\n",
    "plt.figure(figsize=(10, 8))\n",
    "sns.heatmap(conf_matrix, annot=True, cmap='Blues', fmt='g', cbar=False)\n",
    "plt.title('Confusion Matrix')\n",
    "plt.xlabel('Predicted')\n",
    "plt.ylabel('Actual')\n",
    "plt.show()"
   ]
  },
  {
   "cell_type": "code",
   "execution_count": 29,
   "id": "9b350c95-8d12-4e5b-93c6-6874b0fc6e11",
   "metadata": {},
   "outputs": [
    {
     "name": "stdout",
     "output_type": "stream",
     "text": [
      "\u001b[1m1/1\u001b[0m \u001b[32m━━━━━━━━━━━━━━━━━━━━\u001b[0m\u001b[37m\u001b[0m \u001b[1m0s\u001b[0m 268ms/step\n"
     ]
    },
    {
     "data": {
      "image/png": "[encoded data removed]",
      "text/plain": [
       "<Figure size 1500x1000 with 6 Axes>"
      ]
     },
     "metadata": {},
     "output_type": "display_data"
    }
   ],
   "source": [
    "import random\n",
    "\n",
    "# Randomly select 6 indices from the test set\n",
    "random_indices = random.sample(range(len(test_images)), 6)\n",
    "\n",
    "# Predict probabilities for each class for the randomly selected images\n",
    "y_pred_probs = model.predict(test_images[random_indices])\n",
    "\n",
    "# Convert probabilities to class labels\n",
    "y_pred_labels = np.argmax(y_pred_probs, axis=1)\n",
    "\n",
    "# Decode the predicted labels\n",
    "y_pred_labels_decoded = Encoder.inverse_transform(y_pred_labels)\n",
    "\n",
    "# Decode the true labels\n",
    "y_true_labels_decoded = Encoder.inverse_transform(test_labels[random_indices])\n",
    "    \n",
    "# Display the randomly selected test images along with their predicted and true labels\n",
    "plt.figure(figsize=(15, 10))\n",
    "for i, idx in enumerate(random_indices):\n",
    "    plt.subplot(2, 3, i+1)\n",
    "    plt.imshow(test_images[idx])\n",
    "    plt.title(f'Predicted Label: {y_pred_labels_decoded[i]}, True Label: {y_true_labels_decoded[i]}')\n",
    "    plt.axis('off')\n",
    "plt.show()"
   ]
  }
 ],
 "metadata": {
  "kernelspec": {
   "display_name": "Python 3 (ipykernel)",
   "language": "python",
   "name": "python3"
  },
  "language_info": {
   "codemirror_mode": {
    "name": "ipython",
    "version": 3
   },
   "file_extension": ".py",
   "mimetype": "text/x-python",
   "name": "python",
   "nbconvert_exporter": "python",
   "pygments_lexer": "ipython3",
   "version": "3.12.2"
  }
 },
 "nbformat": 4,
 "nbformat_minor": 5
}
